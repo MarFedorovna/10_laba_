{
 "cells": [
  {
   "cell_type": "markdown",
   "metadata": {},
   "source": [
    "# Задание 10.\n",
    "\n",
    "Вам предоставлен набор данных по качеству воздуха в китайских городах в виде csv файлов.\n",
    "Основная метрика, которая показывает качество воздуха - PM25(<a href='https://www.ncbi.nlm.nih.gov/pmc/articles/PMC4740125/'>подробнее о PM25</a>), указана в колонках, которые начинаются на PM_.\n",
    "Остальные столбцы содержат либо данные о времени, в которое были произведены измерения, либо данные о погоде в этот момент. DEWP - точка росы, HUMI - влажность, PRES - давление, TEMP - температура, cbwd - направление ветра, Iws - его скорость, precipation - осадки, Iprec - накопленные осадки.\n",
    "\n",
    "Для выполнения задания необходимо ответить на вопросы по данным, заполнив ячейки ноутбука. Сам ноутбук необходимо выложить в виде отдельного репозитория на github. Ссылку для клонирования репозитория необходимо приложить в решение задания."
   ]
  },
  {
   "cell_type": "markdown",
   "metadata": {},
   "source": [
    "## 1. Загрузите в виде DataFrame набор данных по качеству воздуха Пекина\n",
    "Ссылка на набор данных: https://disk.yandex.ru/d/1UKJoV1ULW1NLQ"
   ]
  },
  {
   "cell_type": "code",
   "execution_count": 3,
   "metadata": {},
   "outputs": [
    {
     "name": "stdout",
     "output_type": "stream",
     "text": [
      "          No  year  month  day  hour  season  PM_Dongsi  PM_Dongsihuan  \\\n",
      "0          1  2010      1    1     0       4        NaN            NaN   \n",
      "1          2  2010      1    1     1       4        NaN            NaN   \n",
      "2          3  2010      1    1     2       4        NaN            NaN   \n",
      "3          4  2010      1    1     3       4        NaN            NaN   \n",
      "4          5  2010      1    1     4       4        NaN            NaN   \n",
      "...      ...   ...    ...  ...   ...     ...        ...            ...   \n",
      "52579  52580  2015     12   31    19       4      140.0          157.0   \n",
      "52580  52581  2015     12   31    20       4      157.0          199.0   \n",
      "52581  52582  2015     12   31    21       4      171.0          231.0   \n",
      "52582  52583  2015     12   31    22       4      204.0          242.0   \n",
      "52583  52584  2015     12   31    23       4        NaN            NaN   \n",
      "\n",
      "       PM_Nongzhanguan  PM_US Post  DEWP  HUMI    PRES  TEMP cbwd    Iws  \\\n",
      "0                  NaN         NaN -21.0  43.0  1021.0 -11.0   NW   1.79   \n",
      "1                  NaN         NaN -21.0  47.0  1020.0 -12.0   NW   4.92   \n",
      "2                  NaN         NaN -21.0  43.0  1019.0 -11.0   NW   6.71   \n",
      "3                  NaN         NaN -21.0  55.0  1019.0 -14.0   NW   9.84   \n",
      "4                  NaN         NaN -20.0  51.0  1018.0 -12.0   NW  12.97   \n",
      "...                ...         ...   ...   ...     ...   ...  ...    ...   \n",
      "52579            122.0       133.0  -8.0  68.0  1031.0  -3.0   SE   7.14   \n",
      "52580            149.0       169.0  -8.0  63.0  1030.0  -2.0   SE   8.03   \n",
      "52581            196.0       203.0 -10.0  73.0  1030.0  -6.0   NE   0.89   \n",
      "52582            221.0       212.0 -10.0  73.0  1030.0  -6.0   NE   1.78   \n",
      "52583              NaN       235.0  -9.0  79.0  1029.0  -6.0   NE   2.67   \n",
      "\n",
      "       precipitation  Iprec  \n",
      "0                0.0    0.0  \n",
      "1                0.0    0.0  \n",
      "2                0.0    0.0  \n",
      "3                0.0    0.0  \n",
      "4                0.0    0.0  \n",
      "...              ...    ...  \n",
      "52579            0.0    0.0  \n",
      "52580            0.0    0.0  \n",
      "52581            0.0    0.0  \n",
      "52582            0.0    0.0  \n",
      "52583            0.0    0.0  \n",
      "\n",
      "[52584 rows x 18 columns]\n"
     ]
    }
   ],
   "source": [
    "import pandas as pd\n",
    "import numpy as np\n",
    "df = pd.read_csv('C:\\\\Users\\\\user\\\\Desktop\\\\ГУНБИН\\\\BeijingPM20100101_20151231.csv')\n",
    "print(df)"
   ]
  },
  {
   "cell_type": "markdown",
   "metadata": {},
   "source": [
    "## 2. Сколько всего строк находится в наборе данных?"
   ]
  },
  {
   "cell_type": "code",
   "execution_count": 6,
   "metadata": {
    "pycharm": {
     "name": "#%%\n"
    }
   },
   "outputs": [
    {
     "name": "stdout",
     "output_type": "stream",
     "text": [
      "52584\n"
     ]
    }
   ],
   "source": [
    "\n",
    "print(df.shape[0])"
   ]
  },
  {
   "cell_type": "markdown",
   "metadata": {},
   "source": [
    "## 3. Сколько измерений уровня загрязнения воздуха находится в наборе данных?"
   ]
  },
  {
   "cell_type": "code",
   "execution_count": 5,
   "metadata": {
    "pycharm": {
     "name": "#%%\n"
    }
   },
   "outputs": [
    {
     "name": "stdout",
     "output_type": "stream",
     "text": [
      "Index(['No', 'year', 'month', 'day', 'hour', 'season', 'PM_Dongsi',\n",
      "       'PM_Dongsihuan', 'PM_Nongzhanguan', 'PM_US Post', 'DEWP', 'HUMI',\n",
      "       'PRES', 'TEMP', 'cbwd', 'Iws', 'precipitation', 'Iprec'],\n",
      "      dtype='object')\n",
      "4\n"
     ]
    }
   ],
   "source": [
    "import pandas as pd\n",
    "data = pd.read_csv('C:\\\\Users\\\\user\\\\Desktop\\\\ГУНБИН\\\\BeijingPM20100101_20151231.csv')\n",
    "print(data.columns)\n",
    "print(data.columns[6:10].value_counts().sum())"
   ]
  },
  {
   "cell_type": "markdown",
   "metadata": {},
   "source": [
    "## 4. Введите столбец среднего качества воздуха PM_mean с усреднением показаний со всех станций слежения."
   ]
  },
  {
   "cell_type": "code",
   "execution_count": 27,
   "metadata": {
    "pycharm": {
     "name": "#%%\n"
    }
   },
   "outputs": [
    {
     "name": "stdout",
     "output_type": "stream",
     "text": [
      "SE    18272\n",
      "NW    16717\n",
      "cv    11412\n",
      "NE     6178\n",
      "Name: cbwd, dtype: int64\n",
      "SE\n"
     ]
    }
   ],
   "source": [
    "data = pd.read_csv('C:\\\\Users\\\\user\\\\Desktop\\\\ГУНБИН\\\\BeijingPM20100101_20151231.csv')\n",
    "print(data['cbwd'].value_counts())\n",
    "print(data['cbwd'].value_counts().keys()[0])\n",
    "PM_mean = data['cbwd'].value_counts().keys()[0]"
   ]
  },
  {
   "cell_type": "markdown",
   "metadata": {},
   "source": [
    "## 5. Какое направление ветра преобладает в Пекине?"
   ]
  },
  {
   "cell_type": "code",
   "execution_count": 29,
   "metadata": {
    "pycharm": {
     "name": "#%%\n"
    }
   },
   "outputs": [
    {
     "data": {
      "text/plain": [
       "0    SE\n",
       "dtype: object"
      ]
     },
     "execution_count": 29,
     "metadata": {},
     "output_type": "execute_result"
    }
   ],
   "source": [
    "df['cbwd'].mode()"
   ]
  },
  {
   "cell_type": "markdown",
   "metadata": {},
   "source": [
    "## 6. В какой день качество воздуха является наихудшим(самая большая концентрация частиц)? Вывести дату в типе данных datetime стандартной библиотеки Python."
   ]
  },
  {
   "cell_type": "code",
   "execution_count": 59,
   "metadata": {
    "pycharm": {
     "name": "#%%\n"
    }
   },
   "outputs": [
    {
     "name": "stderr",
     "output_type": "stream",
     "text": [
      "C:\\Users\\user\\AppData\\Local\\Temp/ipykernel_7752/2594564248.py:3: FutureWarning: Dropping invalid columns in DataFrameGroupBy.max is deprecated. In a future version, a TypeError will be raised. Before calling .max, select only columns which should be valid for the function.\n",
      "  DA = df.groupby(by=['day','month', 'year']).max()\n"
     ]
    },
    {
     "data": {
      "text/plain": [
       "day  month  year\n",
       "23   1      2012    994.0\n",
       "Name: PM_mean, dtype: float64"
      ]
     },
     "execution_count": 59,
     "metadata": {},
     "output_type": "execute_result"
    }
   ],
   "source": [
    "import datetime as dt\n",
    "df['PM_mean'] = df[PM_mean].mean(axis=1)\n",
    "DA = df.groupby(by=['day','month', 'year']).max()\n",
    "DA = DA['PM_mean']\n",
    "DA[DA == DA.max()]"
   ]
  },
  {
   "cell_type": "markdown",
   "metadata": {},
   "source": [
    "## 7. Какой из сезонов в Пекине в среднем наименее неблагоприятный для легких за последние 2 года наблюдений?"
   ]
  },
  {
   "cell_type": "code",
   "execution_count": 62,
   "metadata": {
    "pycharm": {
     "name": "#%%\n"
    }
   },
   "outputs": [
    {
     "data": {
      "text/plain": [
       "season\n",
       "4    119.720448\n",
       "Name: PM_mean, dtype: float64"
      ]
     },
     "execution_count": 62,
     "metadata": {},
     "output_type": "execute_result"
    }
   ],
   "source": [
    "PM_mean = [\"PM_Dongsi\", \"PM_Dongsihuan\", 'PM_Nongzhanguan', 'PM_US Post']\n",
    "df['PM_mean'] = df[PM_mean].mean(axis=1)\n",
    "PM = df[df.year > 2013]\n",
    "PM = PM.groupby(by=['season']).mean()\n",
    "PM = PM['PM_mean']\n",
    "PM[PM == PM.max()]"
   ]
  },
  {
   "cell_type": "markdown",
   "metadata": {},
   "source": [
    "## 8. Коррелирует ли влажность с качеством воздуха?\n",
    "Можно воспользоваться корреляцией Пирсона из numpy, а также встроенными функциями Pandas."
   ]
  },
  {
   "cell_type": "code",
   "execution_count": 61,
   "metadata": {
    "pycharm": {
     "name": "#%%\n"
    }
   },
   "outputs": [
    {
     "data": {
      "text/html": [
       "<div>\n",
       "<style scoped>\n",
       "    .dataframe tbody tr th:only-of-type {\n",
       "        vertical-align: middle;\n",
       "    }\n",
       "\n",
       "    .dataframe tbody tr th {\n",
       "        vertical-align: top;\n",
       "    }\n",
       "\n",
       "    .dataframe thead th {\n",
       "        text-align: right;\n",
       "    }\n",
       "</style>\n",
       "<table border=\"1\" class=\"dataframe\">\n",
       "  <thead>\n",
       "    <tr style=\"text-align: right;\">\n",
       "      <th></th>\n",
       "      <th>HUMI</th>\n",
       "      <th>PM_mean</th>\n",
       "    </tr>\n",
       "  </thead>\n",
       "  <tbody>\n",
       "    <tr>\n",
       "      <th>HUMI</th>\n",
       "      <td>1.0</td>\n",
       "      <td>NaN</td>\n",
       "    </tr>\n",
       "    <tr>\n",
       "      <th>PM_mean</th>\n",
       "      <td>NaN</td>\n",
       "      <td>NaN</td>\n",
       "    </tr>\n",
       "  </tbody>\n",
       "</table>\n",
       "</div>"
      ],
      "text/plain": [
       "         HUMI  PM_mean\n",
       "HUMI      1.0      NaN\n",
       "PM_mean   NaN      NaN"
      ]
     },
     "execution_count": 61,
     "metadata": {},
     "output_type": "execute_result"
    }
   ],
   "source": [
    "import numpy as np\n",
    "PM_mean=[\"PM_Dongsi\", \"PM_Dongsihuan\", \"PM_Nongzhanguan\", \"PM_US Post\"]\n",
    "df['PM_mean'] = df[PM_mean].mean()\n",
    "df\n",
    "df[['HUMI', 'PM_mean']].corr(method ='pearson')"
   ]
  },
  {
   "cell_type": "markdown",
   "metadata": {},
   "source": [
    "## 9. Какой из сезонов в Пекине самый дождливый(в среднем по накоплению осадков)?"
   ]
  },
  {
   "cell_type": "code",
   "execution_count": 72,
   "metadata": {
    "pycharm": {
     "name": "#%%\n"
    }
   },
   "outputs": [
    {
     "data": {
      "text/plain": [
       "season\n",
       "3    77.296645\n",
       "Name: Iprec, dtype: float64"
      ]
     },
     "execution_count": 72,
     "metadata": {},
     "output_type": "execute_result"
    }
   ],
   "source": [
    "dojdliviy = df.groupby(by=['season']).mean()\n",
    "dojdliviy = dojdliviy['Iprec']\n",
    "dojdliviy[dojdliviy == dojdliviy.max()]"
   ]
  },
  {
   "cell_type": "markdown",
   "metadata": {},
   "source": [
    "## 10. Становится ли качество воздуха во время дождя лучше, чем оно было сразу перед дождем?"
   ]
  },
  {
   "cell_type": "code",
   "execution_count": 74,
   "metadata": {
    "pycharm": {
     "name": "#%%\n"
    }
   },
   "outputs": [
    {
     "name": "stdout",
     "output_type": "stream",
     "text": [
      "yes\n"
     ]
    }
   ],
   "source": [
    "import numpy as np\n",
    "import pandas as pd\n",
    "df = pd.read_csv('C:\\\\Users\\\\user\\\\Desktop\\\\ГУНБИН\\\\BeijingPM20100101_20151231.csv')\n",
    "vo_vremya_rain = df[['PM_Dongsi', 'PM_Dongsihuan', 'PM_Nongzhanguan', 'PM_US Post']].loc[df['precipitation'] > 0].dropna().mean()\n",
    "pered_rain = df[['PM_Dongsi', 'PM_Dongsihuan', 'PM_Nongzhanguan', 'PM_US Post']].loc[df['precipitation'] == 0].dropna().mean()\n",
    "\n",
    "if vo_vremya_rain.mean() < pered_rain.mean():\n",
    "    print('yes')\n",
    "else:\n",
    "    print('no')"
   ]
  },
  {
   "cell_type": "code",
   "execution_count": null,
   "metadata": {},
   "outputs": [],
   "source": []
  }
 ],
 "metadata": {
  "kernelspec": {
   "display_name": "Python 3 (ipykernel)",
   "language": "python",
   "name": "python3"
  },
  "language_info": {
   "codemirror_mode": {
    "name": "ipython",
    "version": 3
   },
   "file_extension": ".py",
   "mimetype": "text/x-python",
   "name": "python",
   "nbconvert_exporter": "python",
   "pygments_lexer": "ipython3",
   "version": "3.9.1"
  }
 },
 "nbformat": 4,
 "nbformat_minor": 1
}
